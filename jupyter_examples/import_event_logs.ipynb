{
 "cells": [
  {
   "cell_type": "code",
   "execution_count": 2,
   "metadata": {},
   "outputs": [],
   "source": [
    "import podspy.log\n",
    "import time"
   ]
  },
  {
   "cell_type": "markdown",
   "metadata": {},
   "source": [
    "### Quick import"
   ]
  },
  {
   "cell_type": "code",
   "execution_count": null,
   "metadata": {},
   "outputs": [],
   "source": [
    "log_fpath = '/path/to/event/log'\n",
    "logtable = podspy.log.data_io.import_log_table(log_fpath)"
   ]
  },
  {
   "cell_type": "markdown",
   "metadata": {},
   "source": [
    "### Include all attributes using ImportMode"
   ]
  },
  {
   "cell_type": "code",
   "execution_count": null,
   "metadata": {},
   "outputs": [],
   "source": [
    "from podspy.log.data_io import ImportMode\n",
    "\n",
    "logtable = podspy.log.data_io.import_log_table(log_fpath, import_mode=ImportMode.ALL)"
   ]
  },
  {
   "cell_type": "markdown",
   "metadata": {},
   "source": [
    "### Customize the attributes to include"
   ]
  },
  {
   "cell_type": "code",
   "execution_count": null,
   "metadata": {},
   "outputs": [],
   "source": [
    "to_incl = {\n",
    "    'event': { 'concept:name', 'org:resource' },\n",
    "    'trace': { 'concept:name' },\n",
    "    'log': { }\n",
    "}\n",
    "\n",
    "logtable = podspy.log.data_io.import_log_table(log_fpath, include_attribs=to_incl)"
   ]
  },
  {
   "cell_type": "markdown",
   "metadata": {},
   "source": [
    "### Customize trace attribute to use as caseid"
   ]
  },
  {
   "cell_type": "code",
   "execution_count": null,
   "metadata": {},
   "outputs": [],
   "source": [
    "# if 'hidden-jem' is not a trace attribute, a int trace index will be used instead\n",
    "logtable = podspy.log.data_io.import_log_table(log_fpath, caseid_key='hidden-jem')"
   ]
  }
 ],
 "metadata": {
  "kernelspec": {
   "display_name": "Python (podspy)",
   "language": "python",
   "name": "podspy"
  },
  "language_info": {
   "codemirror_mode": {
    "name": "ipython",
    "version": 3
   },
   "file_extension": ".py",
   "mimetype": "text/x-python",
   "name": "python",
   "nbconvert_exporter": "python",
   "pygments_lexer": "ipython3",
   "version": "3.6.5"
  }
 },
 "nbformat": 4,
 "nbformat_minor": 2
}
